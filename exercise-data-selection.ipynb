{
 "cells": [
  {
   "cell_type": "markdown",
   "id": "b5db3e3d-6e96-484f-b2de-64e0a782c050",
   "metadata": {},
   "source": [
    "## 3.1 Preliminary Data Exploration"
   ]
  },
  {
   "cell_type": "markdown",
   "id": "fd8d7cdd-1fa1-4fd3-a643-f46308d05177",
   "metadata": {},
   "source": [
    "# Data exploration\n",
    "\n",
    "The dataset we are looking at compiles environmental and climactic datasets to create a stacked raster, the variables in which describe arthropod prey in California drylands. Datasets compiled by the researchers include bioclimactic variables from WorldClim, landcover and NDVI data from MODIS and LPDAAC, elevation data from USGS, and distance to the nearest road from the census bureau's TIGER/Line road shapefile. The temporal period for the data is 1945-2022, and it is considered non-sensitive data. The dataset comes with a metadata file in the form a .csv file\n",
    "\n",
    "Link to the data: https://knb.ecoinformatics.org/view/doi%3A10.5063%2FF1VM49RH\n",
    "\n",
    "Citation: Rachel King, Jenna Braun, Michael Westphal, & CJ Lortie. (2023). Compiled occurrence records for prey items of listed species found in California drylands with associated environmental data. Knowledge Network for Biocomplexity. doi:10.5063/F1VM49RH. Accessed 5 Oct. 2023. "
   ]
  },
  {
   "cell_type": "code",
   "execution_count": null,
   "id": "3ea24b47-ee5a-4190-af5e-49472d71af4a",
   "metadata": {},
   "outputs": [],
   "source": []
  }
 ],
 "metadata": {
  "kernelspec": {
   "display_name": "Anaconda 3 (Base)",
   "language": "python",
   "name": "base"
  },
  "language_info": {
   "codemirror_mode": {
    "name": "ipython",
    "version": 3
   },
   "file_extension": ".py",
   "mimetype": "text/x-python",
   "name": "python",
   "nbconvert_exporter": "python",
   "pygments_lexer": "ipython3",
   "version": "3.9.13"
  }
 },
 "nbformat": 4,
 "nbformat_minor": 5
}
